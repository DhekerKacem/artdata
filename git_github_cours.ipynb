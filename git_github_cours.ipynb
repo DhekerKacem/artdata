{
    "cells": [
        {
            "cell_type": "markdown",
            "metadata": {},
            "source": [
                "# Gestion de version avec Git et GitHub : Guide d\u00e9taill\u00e9"
            ]
        },
        {
            "cell_type": "markdown",
            "metadata": {},
            "source": [
                "## Introduction\n",
                "### Qu\u2019est-ce que c\u2019est ?\n",
                "- **Git** : Un syst\u00e8me de gestion de versions distribu\u00e9 qui permet de suivre les modifications d'un fichier ou d\u2019un ensemble de fichiers dans le temps. Il est principalement utilis\u00e9 pour le d\u00e9veloppement logiciel, mais peut s'appliquer \u00e0 n'importe quel type de fichiers.\n",
                "- **GitHub** : Une plateforme cloud qui h\u00e9berge des d\u00e9p\u00f4ts Git et permet de collaborer sur le code, partager des projets, et les sauvegarder en ligne."
            ]
        },
        {
            "cell_type": "markdown",
            "metadata": {},
            "source": [
                "### Pourquoi c\u2019est important ?\n",
                "1. **Tra\u00e7abilit\u00e9** : Savoir quand, pourquoi, et par qui un fichier a \u00e9t\u00e9 modifi\u00e9.\n",
                "2. **Collaboration** : Faciliter le travail simultan\u00e9 sur un projet avec des fonctionnalit\u00e9s comme les branches et les Pull Requests.\n",
                "3. **S\u00e9curit\u00e9** : Sauvegarder votre code dans le cloud, \u00e9viter les pertes dues \u00e0 des erreurs locales."
            ]
        },
        {
            "cell_type": "markdown",
            "metadata": {},
            "source": [
                "## Pourquoi avons-nous besoin d\u2019un syst\u00e8me de contr\u00f4le de version ?\n",
                "### Probl\u00e8me : Le cycle de vie d\u2019un fichier\n",
                "Les fichiers \u00e9voluent constamment :\n",
                "- Nous voulons suivre **les diff\u00e9rentes versions** d\u2019un fichier.\n",
                "- Identifier **qui** a effectu\u00e9 les changements, **quoi** a \u00e9t\u00e9 modifi\u00e9 et **pourquoi**.\n",
                "- Faire cela manuellement est inefficace et source d\u2019erreurs.\n",
                "\n",
                "### Solution : Git\n",
                "- Git automatise le suivi des versions.\n",
                "- Il enregistre chaque changement apport\u00e9 \u00e0 vos fichiers dans une **ligne de temps consultable**, tout en permettant de revenir facilement \u00e0 des \u00e9tats pr\u00e9c\u00e9dents."
            ]
        },
        {
            "cell_type": "markdown",
            "metadata": {},
            "source": [
                "## Utiliser Git pour suivre les modifications localement"
            ]
        },
        {
            "cell_type": "markdown",
            "metadata": {},
            "source": [
                "### Commandes essentielles de Git\n",
                "\n",
                "| Commande                      | Description                                         | Exemple                                                 |\n",
                "|-------------------------------|-----------------------------------------------------|---------------------------------------------------------|\n",
                "| `git init`                   | Initialiser un d\u00e9p\u00f4t Git dans un dossier.           | `git init`                                              |\n",
                "| `git clone <url>`            | Cloner un d\u00e9p\u00f4t existant, par ex. sur GitHub.        | `git clone git@github.com:username/projet.git`          |\n",
                "| `git status`                 | V\u00e9rifier l\u2019\u00e9tat des fichiers dans le d\u00e9p\u00f4t local.   | `git status`                                            |\n",
                "| `git add <fichier>`          | Ajouter des fichiers au suivi de Git.               | `git add fichier.txt`                                   |\n",
                "| `git commit -m \"<message>\"`  | Sauvegarder les modifications avec un message clair.| `git commit -m \"Ajout d\u2019un README\"`                    |\n",
                "| `git reset <fichier>`        | Retirer un fichier du suivi avant le commit.        | `git reset fichier.txt`                                 |\n",
                "| `git log`                    | Afficher l\u2019historique des commits.                  | `git log`                                              |\n",
                "| `git diff <fichier>`         | Voir les modifications non suivies dans un fichier.| `git diff fichier.txt`                                 |\n",
                "| `git reset --hard <hash>`    | Revenir \u00e0 une version sp\u00e9cifique.                   | `git reset --hard abc123`                              |\n",
                "| `git pull`                   | R\u00e9cup\u00e9rer les changements d\u2019un d\u00e9p\u00f4t distant.       | `git pull origin main`                                 |\n",
                "| `git push`                   | Envoyer les modifications locales vers un d\u00e9p\u00f4t distant.| `git push origin main`                             |"
            ]
        },
        {
            "cell_type": "markdown",
            "metadata": {},
            "source": [
                "## D\u00e9marrer un projet avec Git"
            ]
        },
        {
            "cell_type": "code",
            "execution_count": null,
            "metadata": {},
            "outputs": [],
            "source": [
                "# Cr\u00e9er un nouveau projet\n",
                "mkdir -p ~/code/mon_projet && cd $_\n",
                "git init"
            ]
        },
        {
            "cell_type": "markdown",
            "metadata": {},
            "source": [
                "### Ajouter et valider des fichiers"
            ]
        },
        {
            "cell_type": "code",
            "execution_count": null,
            "metadata": {},
            "outputs": [],
            "source": [
                "echo \"Mon projet\" > README.md\n",
                "git add README.md\n",
                "git commit -m \"Initialisation du projet avec README\""
            ]
        },
        {
            "cell_type": "markdown",
            "metadata": {},
            "source": [
                "### Modifier un fichier"
            ]
        },
        {
            "cell_type": "code",
            "execution_count": null,
            "metadata": {},
            "outputs": [],
            "source": [
                "echo \"Nouvelle ligne\" >> README.md\n",
                "git diff README.md  # Voir les modifications\n",
                "git add README.md   # Ajouter au suivi\n",
                "git commit -m \"Ajout d'une nouvelle ligne au README\""
            ]
        }
    ],
    "metadata": {
        "kernelspec": {
            "display_name": "Python 3",
            "language": "python",
            "name": "python3"
        },
        "language_info": {
            "codemirror_mode": {
                "name": "ipython",
                "version": 3
            },
            "file_extension": ".py",
            "mimetype": "text/x-python",
            "name": "python",
            "nbconvert_exporter": "python",
            "pygments_lexer": "ipython3",
            "version": "3.8.5"
        }
    },
    "nbformat": 4,
    "nbformat_minor": 5
}